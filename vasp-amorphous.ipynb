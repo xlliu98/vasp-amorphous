{
 "cells": [
  {
   "cell_type": "markdown",
   "id": "a247ae56-b051-4e97-9895-9644a99ac55a",
   "metadata": {},
   "source": [
    "# A Practical Guide to Computing Diffusivity of Amorphous Materials Using VASP"
   ]
  },
  {
   "cell_type": "markdown",
   "id": "a3378a9e-7b09-458c-9a1b-8b30fa98e860",
   "metadata": {},
   "source": [
    "This guide provides a detailed procedure with all necessary scripts to compute diffusivity of any amorphous material using the VASP package.\n",
    "For scientific background, see [Angew. Chem. Int. Ed. 2024, 63, e202315628](https://onlinelibrary.wiley.com/doi/full/10.1002/anie.202315628), and [ACS Appl. Mater. Interfaces 2020, 12, 35748](https://pubs.acs.org/doi/10.1021/acsami.0c10000). We will use $LiTaCl_6$ in [Angew. Chem. Int. Ed. 2024, 63, e202315628](https://onlinelibrary.wiley.com/doi/full/10.1002/anie.202315628) as the material, combined with methods from [ACS Appl. Mater. Interfaces 2020, 12, 35748](https://pubs.acs.org/doi/10.1021/acsami.0c10000) to achieve efficient calculation of diffusivity."
   ]
  },
  {
   "cell_type": "markdown",
   "id": "70a3436e-d03f-44ce-9fac-6714c737380c",
   "metadata": {},
   "source": [
    "# 0. Preparation\n",
    "\n",
    "First of all, we need to install some packages. \n",
    "\n",
    "Download and compile [packmol](https://m3g.github.io/packmol/). \n",
    "\n",
    "The code was tested in a conda environment and that's the recommended way to use the code. Suppose you have conda installed/loaded, do the following to create an environment for this project:\n",
    "\n",
    "<code>conda create --name vaspenv python numpy scipy ase pymatgen</code>. \n",
    "\n",
    "Then type <code>conda activate vaspenv</code> to use the environment."
   ]
  },
  {
   "cell_type": "markdown",
   "id": "5a722f45-4f71-4494-b379-3f0e56c01584",
   "metadata": {},
   "source": [
    "# 1. Equilibration in Liquid Phase\n",
    "The first step is to melt and equilibrate the material above its melting point but below its boiling point. We follow [ACS Appl. Mater. Interfaces 2020, 12, 35748](https://pubs.acs.org/doi/10.1021/acsami.0c10000) to create a randomly packed initial structure using the packmol package.\n",
    "\n",
    "<code>cd initialStructure</code> \n",
    "\n",
    "Modify the user input section of <code>getInitialStructure.py</code> for your own system.\n",
    "\n",
    "```python\n",
    "# ----- user data -------------------------------------------------------------\n",
    "molar_masses = {\"Li\": 6.9410, \"Ta\": 180.94788, \"Cl\": 35.45}     # g mol⁻¹\n",
    "stoich       = {\"Li\": 1, \"Ta\": 1, \"Cl\": 6}                      # LiTaCl₆\n",
    "density      = 2.96                      # g cm⁻³\n",
    "box_diam     = 12.0                      # Å\n",
    "packmolPath = \"/pscratch/sd/x/xlliu9/Software/packmol/packmol\"\n",
    "# ---------------------------------------------------------------------------\n",
    "```\n",
    "The user needs to supply molar masses and stoichiometry for each element in the system, as well as density, diameter of the cubic box, and the location of packmol package. Note the code will create a cubic box with diameters slightly greater than <code>box_diam</code>.\n",
    "Run the code and you will get a <code>POSCAR</code> file in the same directory. This is the starting geometry for our simulations.\n",
    "\n",
    "We then equilibrate the structure at a suitable temperature. For $LiTaCl_6$, we choose 1500 K. Copy the POSCAR file to <code>eql_1500</code> and prepare other files. To better reach equilibrium, a Langevin thermostat should be used. Run <code>pltAll.py</code> frequently to monitor the status of MD. Modify the user input section of <code>pltAll.py</code> for each directory you want to monitor:\n",
    "\n",
    "```python\n",
    "# ----- user data -------------------------------------------------------------\n",
    "timestep = 1.0 # in fs\n",
    "timeAvg = 2 # in ps\n",
    "maxRestart = 10\n",
    "\n",
    "last_n_ps_steps = int(timeAvg * 1e3 / timestep)\n",
    "dirs = [\"eql_1500\"]\n",
    "# ---------------------------------------------------------------------------   \n",
    "```\n",
    "The code plots potential energy, temperature, pressure and volume in dirs and restart1/ up to restart10/ directories within each of them, and saves a png file named using the directories. A green curve showing the running average property of <code>timeAvg</code> is also plotted. It is considered to have reached equilibrium if the difference of average energy between last 2 ps and last 4 ps is within 1meV/atom."
   ]
  },
  {
   "cell_type": "markdown",
   "id": "f26b8b43-c849-4dd0-b70f-08c16dbee677",
   "metadata": {},
   "source": [
    "# 2. Iteratively Optimizing Density of the Amorphous Phase\n",
    "\n",
    "Once it reached equilibrium, we need to determine its density at 1500 K. We do so by iteratively scale the lattice parameters according to:\n",
    "\n",
    "$\\frac{\\Delta V}{V} \\approx -\\frac{\\Delta P}{K}$, \n",
    "\n",
    "where $V$ is the volume of the cell, $P$ is pressure, and $K$ is bulk modulus. We approximate $K$ by $100GPa$.\n",
    "\n",
    "Copy the equilibrated <code>CONTCAR</code> to <code>scale/POSCAR</code>. Copy other input files and modify <code>iterativeScale.sh</code> for your own project. The script runs AIMD for 4 ps at most 10 times and takes the average pressure in the last 2 ps as input to scale the lattice until the pressure drops below 5 kB."
   ]
  },
  {
   "cell_type": "markdown",
   "id": "65c22db6-a23e-4fd9-92ed-c26c0d09643d",
   "metadata": {},
   "source": [
    "# 3. Fast Quench to Room Temperature\n",
    "Having obtained a good liquid structure, we then quench the material down to room temperature. \n",
    "\n",
    "Copy the <code>POSCAR</code> from <code>scale/</code> to <code>quench/</code>\n",
    "\n",
    "The <code>quench/quench.sh</code> script quenches the material from 1500 K to 300 K in a decrement of 300 K every 2 ps. Modify it for your own project."
   ]
  },
  {
   "cell_type": "markdown",
   "id": "f7aff709-b18e-43bf-9cbd-899f53a00f92",
   "metadata": {},
   "source": [
    "# 4. Optimization of Density at Room Temperature\n",
    "\n",
    "Having quenched down to 300 K, we then quench the material down to 0 K to optimize for more accurate density at room temperature.\n",
    "\n",
    "Copy <code>quench/quench_300/CONTCAR</code> to <code>opt/</code>"
   ]
  },
  {
   "cell_type": "markdown",
   "id": "89663002-cacb-4e9a-b4f0-7be9af1576fe",
   "metadata": {},
   "source": [
    "# 5. Training Machine Learning Force Field around Room Temperature"
   ]
  },
  {
   "cell_type": "markdown",
   "id": "a220971c-7e04-4824-bc13-46567f7f83b5",
   "metadata": {},
   "source": [
    "# 6. Running the MLFF to Determine Diffusivities and Activation Energy"
   ]
  }
 ],
 "metadata": {
  "kernelspec": {
   "display_name": "vaspenv",
   "language": "python",
   "name": "python3"
  },
  "language_info": {
   "codemirror_mode": {
    "name": "ipython",
    "version": 3
   },
   "file_extension": ".py",
   "mimetype": "text/x-python",
   "name": "python",
   "nbconvert_exporter": "python",
   "pygments_lexer": "ipython3",
   "version": "3.12.10"
  }
 },
 "nbformat": 4,
 "nbformat_minor": 5
}
