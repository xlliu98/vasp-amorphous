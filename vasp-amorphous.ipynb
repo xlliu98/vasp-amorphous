{
 "cells": [
  {
   "cell_type": "markdown",
   "id": "a247ae56-b051-4e97-9895-9644a99ac55a",
   "metadata": {},
   "source": [
    "# A Practical Guide to Computing Diffusivity of Amorphous Materials Using VASP"
   ]
  },
  {
   "cell_type": "markdown",
   "id": "a3378a9e-7b09-458c-9a1b-8b30fa98e860",
   "metadata": {},
   "source": [
    "This guide provides a detailed procedure with all necessary scripts to compute diffusivity of any amorphous material using the VASP package.\n",
    "For scientific background, see [Angew. Chem. Int. Ed. 2024, 63, e202315628](https://onlinelibrary.wiley.com/doi/full/10.1002/anie.202315628), and [ACS Appl. Mater. Interfaces 2020, 12, 35748](https://pubs.acs.org/doi/10.1021/acsami.0c10000). We will use $LiTaCl_6$ in [Angew. Chem. Int. Ed. 2024, 63, e202315628](https://onlinelibrary.wiley.com/doi/full/10.1002/anie.202315628) as the material, combined with methods from [ACS Appl. Mater. Interfaces 2020, 12, 35748](https://pubs.acs.org/doi/10.1021/acsami.0c10000) to achieve efficient calculation of diffusivity."
   ]
  },
  {
   "cell_type": "markdown",
   "id": "70a3436e-d03f-44ce-9fac-6714c737380c",
   "metadata": {},
   "source": [
    "First of all, you need to install some packages. \n",
    "\n",
    "Download and compile [packmol](https://m3g.github.io/packmol/). \n",
    "\n",
    "The code was tested in a conda environment and that's the recommended way to use the code. Suppose you have conda installed/loaded, do the following to create an environment for this project:\n",
    "\n",
    "<code>conda create --name vaspenv python=3.11 numpy scipy ase pymatgen</code>. \n",
    "\n",
    "Then type <code>conda activate vaspenv</code> to use the environment."
   ]
  },
  {
   "cell_type": "markdown",
   "id": "8eb19664-3dab-4670-b117-4978dd103bc1",
   "metadata": {},
   "source": [
    "The first step is to melt and equilibrate the material above its melting point but below its boiling point. We follow [ACS Appl. Mater. Interfaces 2020, 12, 35748](https://pubs.acs.org/doi/10.1021/acsami.0c10000) to create a randomly packed initial structure using the packmol package.\n",
    "\n",
    "<code>cd initialStructure</code> \n",
    "\n",
    "Modify the user input section of <code>getInitialStructure.py</code> for your own system.\n",
    "\n",
    "```python\n",
    "# ----- user data -------------------------------------------------------------\n",
    "molar_masses = {\"Li\": 6.9410, \"Ta\": 180.94788, \"Cl\": 35.45}     # g mol⁻¹\n",
    "stoich       = {\"Li\": 1, \"Ta\": 1, \"Cl\": 6}                      # LiTaCl₆\n",
    "density      = 2.96                      # g cm⁻³\n",
    "box_diam     = 12.0                      # Å\n",
    "packmolPath = \"/pscratch/sd/x/xlliu9/Software/packmol/packmol\"\n",
    "# ---------------------------------------------------------------------------\n",
    "```\n",
    "The user needs to supply molar masses and stoichiometry for each element in the system, as well as density, diameter of the cubic box, and the location of packmol package. Note the code will create a cubic box with diameters slightly greater than <code>box_diam</code>.\n",
    "Run the code and you will get a <code>POSCAR</code> file in the same directory. This is the starting geometry for our simulations.\n",
    "\n",
    "We then equilibrate the structure at a suitable temperature. For $LiTaCl_6$, we choose 1500 K. Copy the POSCAR file to <code>eql_1500</code> and prepare other files. To better reach equilibrium, a Langevin thermostat should be used. Run <code>pltAll.py</code> frequently to monitor the status of MD. \n",
    "\n",
    "Once it reached equilibrium, we need to determine its density at 1500 K. We do so by iteratively scale the lattice parameters according to:\n",
    "\n",
    "$\\frac{\\Delta V}{V} \\approx -\\frac{\\Delta P}{K}$, \n",
    "\n",
    "where $V$ is the volume of the cell, $P$ is pressure, and $K$ is bulk modulus. We approximate $K$ by $100 GPa$.\n",
    "\n"
   ]
  },
  {
   "cell_type": "code",
   "execution_count": null,
   "id": "7e205984-b0d2-49b2-80b9-6c50b10c3d7d",
   "metadata": {},
   "outputs": [],
   "source": []
  },
  {
   "cell_type": "code",
   "execution_count": null,
   "id": "ca5653f8-2169-4a91-85d8-ca2a18872504",
   "metadata": {},
   "outputs": [],
   "source": []
  }
 ],
 "metadata": {
  "kernelspec": {
   "display_name": "vaspEnvironment",
   "language": "python",
   "name": "vasp"
  },
  "language_info": {
   "codemirror_mode": {
    "name": "ipython",
    "version": 3
   },
   "file_extension": ".py",
   "mimetype": "text/x-python",
   "name": "python",
   "nbconvert_exporter": "python",
   "pygments_lexer": "ipython3",
   "version": "3.12.9"
  }
 },
 "nbformat": 4,
 "nbformat_minor": 5
}
