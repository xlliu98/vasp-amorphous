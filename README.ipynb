{
 "cells": [
  {
   "cell_type": "markdown",
   "id": "a247ae56-b051-4e97-9895-9644a99ac55a",
   "metadata": {},
   "source": [
    "# A Practical Guide to Computing Diffusivity of Amorphous Materials Using VASP"
   ]
  },
  {
   "cell_type": "markdown",
   "id": "a3378a9e-7b09-458c-9a1b-8b30fa98e860",
   "metadata": {},
   "source": [
    "This guide provides the detailed procedure with all necessary scripts to compute diffusivity of any amorphous material using the VASP package."
   ]
  },
  {
   "cell_type": "code",
   "execution_count": null,
   "id": "69a77069-729b-4b59-840d-d5d64a6f962f",
   "metadata": {},
   "outputs": [],
   "source": []
  }
 ],
 "metadata": {
  "kernelspec": {
   "display_name": "vaspEnvironment",
   "language": "python",
   "name": "vasp"
  },
  "language_info": {
   "codemirror_mode": {
    "name": "ipython",
    "version": 3
   },
   "file_extension": ".py",
   "mimetype": "text/x-python",
   "name": "python",
   "nbconvert_exporter": "python",
   "pygments_lexer": "ipython3",
   "version": "3.12.9"
  }
 },
 "nbformat": 4,
 "nbformat_minor": 5
}
